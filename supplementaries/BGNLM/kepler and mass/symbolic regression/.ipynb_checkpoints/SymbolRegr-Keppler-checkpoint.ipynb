{
 "cells": [
  {
   "cell_type": "code",
   "execution_count": 1,
   "metadata": {},
   "outputs": [
    {
     "name": "stdout",
     "output_type": "stream",
     "text": [
      "Populating the interactive namespace from numpy and matplotlib\n"
     ]
    },
    {
     "ename": "ModuleNotFoundError",
     "evalue": "No module named 'gplearn'",
     "output_type": "error",
     "traceback": [
      "\u001b[0;31m---------------------------------------------------------------------------\u001b[0m",
      "\u001b[0;31mModuleNotFoundError\u001b[0m                       Traceback (most recent call last)",
      "\u001b[0;32m<ipython-input-1-a77138765655>\u001b[0m in \u001b[0;36m<module>\u001b[0;34m()\u001b[0m\n\u001b[1;32m      1\u001b[0m \u001b[0mget_ipython\u001b[0m\u001b[0;34m(\u001b[0m\u001b[0;34m)\u001b[0m\u001b[0;34m.\u001b[0m\u001b[0mrun_line_magic\u001b[0m\u001b[0;34m(\u001b[0m\u001b[0;34m'pylab'\u001b[0m\u001b[0;34m,\u001b[0m \u001b[0;34m'inline'\u001b[0m\u001b[0;34m)\u001b[0m\u001b[0;34m\u001b[0m\u001b[0m\n\u001b[1;32m      2\u001b[0m \u001b[0;32mimport\u001b[0m \u001b[0mpandas\u001b[0m \u001b[0;32mas\u001b[0m \u001b[0mpd\u001b[0m\u001b[0;34m\u001b[0m\u001b[0m\n\u001b[0;32m----> 3\u001b[0;31m \u001b[0;32mimport\u001b[0m \u001b[0mgplearn\u001b[0m \u001b[0;32mas\u001b[0m \u001b[0mgpl\u001b[0m\u001b[0;34m\u001b[0m\u001b[0m\n\u001b[0m\u001b[1;32m      4\u001b[0m \u001b[0;32mfrom\u001b[0m \u001b[0mgplearn\u001b[0m\u001b[0;34m.\u001b[0m\u001b[0mgenetic\u001b[0m \u001b[0;32mimport\u001b[0m \u001b[0mSymbolicRegressor\u001b[0m\u001b[0;34m\u001b[0m\u001b[0m\n\u001b[1;32m      5\u001b[0m \u001b[0;32mfrom\u001b[0m \u001b[0msklearn\u001b[0m\u001b[0;34m.\u001b[0m\u001b[0mensemble\u001b[0m \u001b[0;32mimport\u001b[0m \u001b[0mRandomForestRegressor\u001b[0m\u001b[0;34m\u001b[0m\u001b[0m\n",
      "\u001b[0;31mModuleNotFoundError\u001b[0m: No module named 'gplearn'"
     ]
    }
   ],
   "source": [
    "%pylab inline\n",
    "import pandas as pd \n",
    "import gplearn as gpl    \n",
    "from gplearn.genetic import SymbolicRegressor\n",
    "from sklearn.ensemble import RandomForestRegressor\n",
    "from sklearn.tree import DecisionTreeRegressor\n",
    "from sklearn.utils.random import check_random_state\n",
    "from mpl_toolkits.mplot3d import Axes3D\n",
    "import matplotlib.pyplot as plt\n",
    "import numpy as np\n",
    "import graphviz\n",
    "\n",
    "d0 = pd.read_csv(\"exa1.csv\",delimiter=\",\")\n",
    "d = np.asarray(d0)\n",
    "#x3 and x6 are the \"right\" input variables and should a least be included\n",
    "X_train = d[:,(3,6,7,9)]              #First subset\n",
    "#X_train = d[:,(3,5,6,7,8,9)]          #Second subset\n",
    "y_train = d[:,4]\n",
    "X_train[:,0] = X_train[:,0]/15000.0  #Scaling this variable to make it on a reasonable scale\n",
    "\n",
    "from joblib import Parallel, delayed\n",
    "import multiprocessing\n",
    "     \n",
    "inputs = range(10) \n",
    "def processInput(i):\n",
    "    return i * i\n",
    " \n",
    "num_cores = multiprocessing.cpu_count()\n",
    "\n",
    "def _pw3( x ):\n",
    "    a = pow(abs(x),1/3); \n",
    "    return a   \n",
    "\n",
    "pw3 = gpl.functions.make_function( function = _pw3, name='pw3', arity=1 )\n",
    "function_set = ['add', 'sub', 'mul', 'div',pw3]\n",
    "M = 100\n",
    "\n",
    "#os.remove(\"output.txt\")\n",
    "inputs = range(M)\n",
    "def processInput(i):\n",
    "  est_gp = SymbolicRegressor(population_size=40000,generations=50,\n",
    "                           stopping_criteria=0.02,\n",
    "                           p_crossover=0.65, p_subtree_mutation=0.15,\n",
    "                           p_hoist_mutation=0.05, p_point_mutation=0.1,\n",
    "                           verbose=0,n_jobs=1,const_range=(-0.1,0.1),\n",
    "                           function_set=function_set,metric='rmse',\n",
    "                           parsimony_coefficient=0.1, random_state=i)\n",
    "  est_gp.fit(X_train, y_train)\n",
    "  print(est_gp._program,file=open(\"output.txt\",\"a\"))\n",
    "  y_score = est_gp.predict(X_train)\n",
    "  rmse = np.sqrt(np.sum(np.power(y_train-y_score,2))/len(y_train))\n",
    "  return rmse\n",
    "\n",
    "rmse = Parallel(n_jobs=num_cores)(delayed(processInput)(i) for i in inputs)\n"
   ]
  },
  {
   "cell_type": "code",
   "execution_count": null,
   "metadata": {},
   "outputs": [
    {
     "name": "stdout",
     "output_type": "stream",
     "text": [
      "Collecting gplearn\n",
      "\u001b[?25l  Downloading https://files.pythonhosted.org/packages/43/6b/ee38cd74b32ad5056603aabbef622f9691f19d0869574dfc610034f18662/gplearn-0.4.1-py3-none-any.whl (41kB)\n",
      "\u001b[K    100% |████████████████████████████████| 51kB 387kB/s ta 0:00:011\n",
      "\u001b[?25hCollecting joblib>=0.13.0 (from gplearn)\n",
      "\u001b[?25l  Downloading https://files.pythonhosted.org/packages/28/5c/cf6a2b65a321c4a209efcdf64c2689efae2cb62661f8f6f4bb28547cf1bf/joblib-0.14.1-py2.py3-none-any.whl (294kB)\n",
      "\u001b[K    100% |████████████████████████████████| 296kB 655kB/s eta 0:00:01\n",
      "\u001b[?25hCollecting scikit-learn>=0.20.0 (from gplearn)\n",
      "\u001b[?25l  Downloading https://files.pythonhosted.org/packages/2e/d0/860c4f6a7027e00acff373d9f5327f4ae3ed5872234b3cbdd7bcb52e5eff/scikit_learn-0.22-cp36-cp36m-manylinux1_x86_64.whl (7.0MB)\n",
      "\u001b[K    100% |████████████████████████████████| 7.0MB 649kB/s eta 0:00:01   8% |██▊                             | 604kB 23.0MB/s eta 0:00:01\n",
      "\u001b[?25hRequirement already satisfied: scipy>=0.17.0 in /nr/samba/user/ahu/anaconda3/lib/python3.6/site-packages (from scikit-learn>=0.20.0->gplearn) (1.1.0)\n",
      "Requirement already satisfied: numpy>=1.11.0 in /nr/samba/user/ahu/anaconda3/lib/python3.6/site-packages (from scikit-learn>=0.20.0->gplearn) (1.17.4)\n",
      "Installing collected packages: joblib, scikit-learn, gplearn\n",
      "  Found existing installation: scikit-learn 0.19.1\n",
      "    Uninstalling scikit-learn-0.19.1:\n",
      "      Successfully uninstalled scikit-learn-0.19.1\n"
     ]
    }
   ],
   "source": [
    "!pip3 install gplearn"
   ]
  },
  {
   "cell_type": "code",
   "execution_count": null,
   "metadata": {},
   "outputs": [],
   "source": []
  }
 ],
 "metadata": {
  "kernelspec": {
   "display_name": "Python 3",
   "language": "python",
   "name": "python3"
  },
  "language_info": {
   "codemirror_mode": {
    "name": "ipython",
    "version": 3
   },
   "file_extension": ".py",
   "mimetype": "text/x-python",
   "name": "python",
   "nbconvert_exporter": "python",
   "pygments_lexer": "ipython3",
   "version": "3.6.5"
  }
 },
 "nbformat": 4,
 "nbformat_minor": 2
}
